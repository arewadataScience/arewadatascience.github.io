{
 "cells": [
  {
   "cell_type": "code",
   "execution_count": 2,
   "metadata": {},
   "outputs": [
    {
     "name": "stdout",
     "output_type": "stream",
     "text": [
      "/Users/abumafrim/Documents/GitHub/arewadatascience.github.io/people/fellows-ml-2\n"
     ]
    }
   ],
   "source": [
    "%cd people/fellows-ml-2/"
   ]
  },
  {
   "cell_type": "code",
   "execution_count": null,
   "metadata": {},
   "outputs": [],
   "source": [
    "import os\n",
    "\n",
    "files = os.listdir()\n",
    "\n",
    "# rename all files in the directory\n",
    "for file in files:\n",
    "  if file.endswith('.qmd'):\n",
    "    new_name = '_'.join(file.split('_')[:-1]) + '.qmd'\n",
    "    print(f'{file} -> {new_name}')\n",
    "    os.rename(file, new_name)"
   ]
  }
 ],
 "metadata": {
  "kernelspec": {
   "display_name": "datascience",
   "language": "python",
   "name": "python3"
  },
  "language_info": {
   "codemirror_mode": {
    "name": "ipython",
    "version": 3
   },
   "file_extension": ".py",
   "mimetype": "text/x-python",
   "name": "python",
   "nbconvert_exporter": "python",
   "pygments_lexer": "ipython3",
   "version": "3.9.17"
  }
 },
 "nbformat": 4,
 "nbformat_minor": 2
}
