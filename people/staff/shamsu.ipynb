{
  "cells": [
    {
      "cell_type": "raw",
      "metadata": {},
      "source": [
        "---\n",
        "title: \"Shamsuddeen H. Muhammad\"\n",
        "sortby: \"2\"\n",
        "subtitle: \"PhD Student\"\n",
        "image: shamsu.jpg\n",
        "toc: false\n",
        "resources: \n",
        "  - \"gray_cv.pdf\"\n",
        "started: \"Fall 2022\"\n",
        "ended: \"Current\"\n",
        "about:\n",
        "  id: person-profile\n",
        "  template: jolla\n",
        "  links:\n",
        "    - icon: link\n",
        "      text: website\n",
        "      href: https://www.shmuhammad.com\n",
        "    - icon: mortarboard\n",
        "      text: scholar\n",
        "      href: https://scholar.google.nl/citations?hl=en&user=Ne1nt4gAAAAJ\n",
        "    - icon: github\n",
        "      text: github\n",
        "      href: https://github.com/shmuhammad2004\n",
        "    - icon: twitter\n",
        "      text: twitter\n",
        "      href: https://twitter.com/Shmuhammadd?lang=en\n",
        "    - icon: linkedin\n",
        "      text: linkedin\n",
        "      href: https://www.linkedin.com/in/shmuhammad/\n",
        "\n",
        "---"
      ],
      "id": "de832ae3"
    },
    {
      "cell_type": "markdown",
      "metadata": {},
      "source": [
        "```{css, echo = FALSE}\n",
        ".justify {\n",
        "  text-align: justify !important\n",
        "}\n",
        "```\n",
        "\n",
        "```{=html}\n",
        "<nav aria-label=\"breadcrumb\">\n",
        "  <ol class=\"breadcrumb\">\n",
        "    <li class=\"breadcrumb-item\"><a href=\"../../index.html\">Home</a></li>\n",
        "    <li class=\"breadcrumb-item\"><a href=\"../../mentors.html\">Mentors</a></li>\n",
        "    <li class=\"breadcrumb-item active\" aria-current=\"page\">{{< meta title >}}</li>\n",
        "  </ol>\n",
        "</nav>\n",
        "```\n",
        "\n",
        "\n",
        ":::{#person-profile}\n",
        ":::\n",
        "\n",
        "\n",
        "::: {.justify}\n",
        "\n",
        "## Biography\n",
        "\n",
        "Shamsuddeen is a Founder of Arewa Data Science Academy and [HausaNLP](https://www.hausanlp.org). He is a faculty member at the Faculty of Computer Science at Bayero University in Kano, Nigeria.\n",
        "Currently, he is a PhD candidate in the MAPi joint Doctoral Program in Computer Science, offered by the University of Minho, University of Aveiro, and the University of Porto in Portugal. His research interests focus on Natural Language Processing for Low-resource languages. He received his Master's degree from the University of Manchester in the UK and a Bachelor's degree from Bayero University in Kano, Nigeria.  \n",
        "\n",
        ":::"
      ],
      "id": "3af64081"
    }
  ],
  "metadata": {
    "kernelspec": {
      "name": "python-notes",
      "language": "python",
      "display_name": "python-notes"
    }
  },
  "nbformat": 4,
  "nbformat_minor": 5
}