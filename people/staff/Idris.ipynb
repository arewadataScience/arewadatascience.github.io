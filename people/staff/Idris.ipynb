{
  "cells": [
    {
      "cell_type": "raw",
      "metadata": {},
      "source": [
        "---\n",
        "title: \"Idris Abdulmunin\"\n",
        "sortby: \"3\"\n",
        "subtitle: \"Posdoc Fellow\"\n",
        "image: idris.jpg\n",
        "toc: false\n",
        "resources: \n",
        "  - \"gray_cv.pdf\"\n",
        "started: \"Fall 2022\"\n",
        "ended: \"Current\"\n",
        "about:\n",
        "  id: person-profile\n",
        "  template: jolla\n",
        "  links:\n",
        "    - icon: link\n",
        "      text: website\n",
        "      href: https://abu.edu.ng/staff/abdulmumin-idris?vn/2022-09-259493.html\n",
        "    - icon: mortarboard\n",
        "      text: scholar\n",
        "      href: https://scholar.google.com/citations?user=UJBFXaoAAAAJ&hl=en&oi=ao\n",
        "    - icon: github\n",
        "      text: github\n",
        "      href: https://github.com/abumafrim\n",
        "    - icon: twitter\n",
        "      text: twitter\n",
        "      href: https://twitter.com/abumafrim/\n",
        "    - icon: linkedin\n",
        "      text: linkedin\n",
        "      href: https://www.linkedin.com/in/abumafrim/\n",
        "---"
      ],
      "id": "58574ee4"
    },
    {
      "cell_type": "markdown",
      "metadata": {},
      "source": [
        "```{css, echo = FALSE}\n",
        ".justify {\n",
        "  text-align: justify !important\n",
        "}\n",
        "```\n",
        "\n",
        "```{=html}\n",
        "<nav aria-label=\"breadcrumb\">\n",
        "  <ol class=\"breadcrumb\">\n",
        "    <li class=\"breadcrumb-item\"><a href=\"../../index.html\">Home</a></li>\n",
        "    <li class=\"breadcrumb-item\"><a href=\"../../mentors.html\">Mentors</a></li>\n",
        "    <li class=\"breadcrumb-item active\" aria-current=\"page\">{{< meta title >}}</li>\n",
        "  </ol>\n",
        "</nav>\n",
        "```\n",
        "\n",
        "\n",
        ":::{#person-profile}\n",
        ":::\n",
        "\n",
        "\n",
        "::: {.justify}\n",
        "\n",
        "## Biography\n",
        "Idris Abdulmumin is a faculty member of Ahmadu Bello University Zaria. His research focuses on low resource natural language processing (NLP), with special interest in machine translation. He received his Bachelor and Master of Science degrees from Bayero University, Kano, and Nottingham Trent University, United Kingdom respectively. Idris has just completed his PhD at Bayero University, Kano, and will resume with the University of Pretoria Data Science for Social Impact Research Group as a Postdoctoral researcher to work on NLP for low resource African languages.\n",
        "\n",
        "\n",
        ":::"
      ],
      "id": "783de0c9"
    }
  ],
  "metadata": {
    "kernelspec": {
      "name": "python-notes",
      "language": "python",
      "display_name": "python-notes"
    }
  },
  "nbformat": 4,
  "nbformat_minor": 5
}